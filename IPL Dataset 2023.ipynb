{
 "cells": [
  {
   "cell_type": "code",
   "execution_count": 193,
   "id": "f150f9dd",
   "metadata": {},
   "outputs": [],
   "source": [
    "import requests, csv\n",
    "from bs4 import BeautifulSoup"
   ]
  },
  {
   "cell_type": "code",
   "execution_count": 194,
   "id": "f908bde3",
   "metadata": {},
   "outputs": [],
   "source": [
    "# Teams in IPL 2023\n",
    "teams = {\"CSK\": \"chennai-super-kings\", \"DC\": \"delhi-capitals\",\"GT\": \"gujarat-titans\",\n",
    "         \"KKR\": \"kolkata-knight-riders\",\"LSG\": \"lucknow-super-giants\",\"MI\": \"mumbai-indians\",\n",
    "         \"PK\": \"punjab-kings\",\"RR\": \"rajasthan-royals\",\"RCB\": \"royal-challengers-bangalore\",\n",
    "         \"SRH\": \"sunrisers-hyderabad\"}\n",
    "# Base URL for the IPL T20 teams website\n",
    "base_url = \"https://www.iplt20.com/teams/\""
   ]
  },
  {
   "cell_type": "code",
   "execution_count": 195,
   "id": "f2228fae",
   "metadata": {},
   "outputs": [
    {
     "data": {
      "text/plain": [
       "16"
      ]
     },
     "execution_count": 195,
     "metadata": {},
     "output_type": "execute_result"
    }
   ],
   "source": [
    "# The scraped data is output to a csv file\n",
    "file = open('ipl_2023(1).csv', 'w', newline='')\n",
    "writer = csv.writer(file)\n",
    "headers = (['Name', 'Role', 'Team'])\n",
    "writer.writerow(headers)"
   ]
  },
  {
   "cell_type": "code",
   "execution_count": 196,
   "id": "9f588b07",
   "metadata": {},
   "outputs": [],
   "source": [
    "# This function is used to find the players in each team and separate them by their role\n",
    "def generate_players(players, team):\n",
    "    \n",
    "    file = open('ipl_2023(1).csv', 'a', newline='', encoding='utf-8')\n",
    "    writer = csv.writer(file)\n",
    "    \n",
    "    for player in players:\n",
    "        name = player.find('h2').text.strip()\n",
    "        role = player.find('span', class_=\"d-block w-100 text-center\").text.strip()\n",
    "        headers = ([name, role, team])\n",
    "        writer.writerow(headers)\n",
    "    \n",
    "    file.close()"
   ]
  },
  {
   "cell_type": "code",
   "execution_count": 197,
   "id": "7c83d47c",
   "metadata": {},
   "outputs": [],
   "source": [
    "# This function makes a call to the team's page and gets all the players from the team\n",
    "def generate_page(url, team):\n",
    "    resp = requests.get(url)\n",
    "    soup = BeautifulSoup(resp.content, \"html.parser\")\n",
    "    results = soup.find(class_=\"col-12 position-relative\")\n",
    "    players = results.find_all('div', class_=\"ih-pcard-wrap\")\n",
    "    batters = players[0]\n",
    "    all_rounders = players[1]\n",
    "    bowlers = players[2]\n",
    "    batters_list = batters.find_all('a')\n",
    "    all_rounders_list = all_rounders.find_all('a')\n",
    "    bowlers_list = bowlers.find_all('a')\n",
    "    generate_players(batters_list, team)\n",
    "    generate_players(bowlers_list, team)\n",
    "    generate_players(all_rounders_list, team)"
   ]
  },
  {
   "cell_type": "code",
   "execution_count": 198,
   "id": "7416b9da",
   "metadata": {},
   "outputs": [],
   "source": [
    "# Call the generate_page function for all the IPL teams\n",
    "for team in teams:\n",
    "    generate_page(base_url+teams[team], team)"
   ]
  }
 ],
 "metadata": {
  "kernelspec": {
   "display_name": "Python 3 (ipykernel)",
   "language": "python",
   "name": "python3"
  },
  "language_info": {
   "codemirror_mode": {
    "name": "ipython",
    "version": 3
   },
   "file_extension": ".py",
   "mimetype": "text/x-python",
   "name": "python",
   "nbconvert_exporter": "python",
   "pygments_lexer": "ipython3",
   "version": "3.7.9"
  }
 },
 "nbformat": 4,
 "nbformat_minor": 5
}
